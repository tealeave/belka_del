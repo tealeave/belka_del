{
 "cells": [
  {
   "cell_type": "markdown",
   "metadata": {},
   "source": [
    "# Leash Tutorial - ECFPs and Random Forest\n",
    "## Introduction\n",
    "\n",
    "There are many ways to represent molecules for machine learning. \n",
    "\n",
    "We will go through one of the simplest: ECFPs [[1]](https://pubs.acs.org/doi/10.1021/ci100050t) and Random Forest. This technique is surprisingly powerful, and on previous benchmarks often gets uncomfortably close to the state of the art.\n",
    "\n",
    "First molecule graphs are broken into bags of subgraphs of varying sizes.\n",
    "\n",
    "![ecfp featurizing process (chemaxon)](https://docs.chemaxon.com/display/docs/images/download/attachments/1806333/ecfp_generation.png)\n",
    "\n",
    "Then the bag of subgraphs is hashed into a bit vector\n",
    "\n",
    "![hashing process (chemaxon)](https://docs.chemaxon.com/display/docs/images/download/attachments/1806333/ecfp_folding.png)\n",
    "\n",
    "This can be thought of as analogous to the [hashing trick](https://en.wikipedia.org/wiki/Feature_hashing) [[2]](https://alex.smola.org/papers/2009/Weinbergeretal09.pdf) on bag of words for NLP problems, from the days before transformers. \n",
    "\n",
    "RDKit, an open-source cheminformatics tool, is used for generating ECFP features. It facilitates the creation of hashed bit vectors, streamlining the process. We can install it as follows:"
   ]
  },
  {
   "cell_type": "markdown",
   "metadata": {},
   "source": [
    "The training set is pretty big, but we can treat the parquet files as databases using duckdb. We will use this to sample down to a smaller dataset for demonstration purposes. Lets install duckdb as well."
   ]
  },
  {
   "cell_type": "markdown",
   "metadata": {},
   "source": [
    "## Data Preparation\n",
    "\n",
    "The training and testing data paths are defined for the .parquet files. We use duckdb to scan search through the large training sets. Just to get started lets sample out an equal number of positive and negatives. \n",
    "\n",
    "This query selects an equal number of samples where binds equals 0 (non-binding) and 1 (binding), limited to 30,000 each, to avoid model bias towards a particular class."
   ]
  },
  {
   "cell_type": "code",
   "execution_count": 1,
   "metadata": {
    "execution": {
     "iopub.execute_input": "2024-04-04T12:56:02.974319Z",
     "iopub.status.busy": "2024-04-04T12:56:02.973863Z",
     "iopub.status.idle": "2024-04-04T12:56:59.360377Z",
     "shell.execute_reply": "2024-04-04T12:56:59.359203Z",
     "shell.execute_reply.started": "2024-04-04T12:56:02.974273Z"
    },
    "trusted": true
   },
   "outputs": [
    {
     "data": {
      "application/vnd.jupyter.widget-view+json": {
       "model_id": "facbfb23101a4cb1965933953d855911",
       "version_major": 2,
       "version_minor": 0
      },
      "text/plain": [
       "FloatProgress(value=0.0, layout=Layout(width='auto'), style=ProgressStyle(bar_color='black'))"
      ]
     },
     "metadata": {},
     "output_type": "display_data"
    }
   ],
   "source": [
    "import duckdb\n",
    "import pandas as pd\n",
    "\n",
    "train_path = '/dfs6/pub/ddlin/projects/belka_del/data/raw/train.parquet'\n",
    "test_path = '/dfs6/pub/ddlin/projects/belka_del/data/raw/test.parquet'\n",
    "\n",
    "con = duckdb.connect()\n",
    "\n",
    "df = con.query(f\"\"\"(SELECT *\n",
    "                        FROM parquet_scan('{train_path}')\n",
    "                        WHERE binds = 0\n",
    "                        ORDER BY random()\n",
    "                        LIMIT 30000)\n",
    "                        UNION ALL\n",
    "                        (SELECT *\n",
    "                        FROM parquet_scan('{train_path}')\n",
    "                        WHERE binds = 1\n",
    "                        ORDER BY random()\n",
    "                        LIMIT 30000)\"\"\").df()\n",
    "\n",
    "con.close()"
   ]
  },
  {
   "cell_type": "code",
   "execution_count": 2,
   "metadata": {
    "execution": {
     "iopub.execute_input": "2024-04-04T12:56:59.364488Z",
     "iopub.status.busy": "2024-04-04T12:56:59.363629Z",
     "iopub.status.idle": "2024-04-04T12:56:59.390962Z",
     "shell.execute_reply": "2024-04-04T12:56:59.388979Z",
     "shell.execute_reply.started": "2024-04-04T12:56:59.364435Z"
    },
    "trusted": true
   },
   "outputs": [
    {
     "data": {
      "text/html": [
       "<div>\n",
       "<style scoped>\n",
       "    .dataframe tbody tr th:only-of-type {\n",
       "        vertical-align: middle;\n",
       "    }\n",
       "\n",
       "    .dataframe tbody tr th {\n",
       "        vertical-align: top;\n",
       "    }\n",
       "\n",
       "    .dataframe thead th {\n",
       "        text-align: right;\n",
       "    }\n",
       "</style>\n",
       "<table border=\"1\" class=\"dataframe\">\n",
       "  <thead>\n",
       "    <tr style=\"text-align: right;\">\n",
       "      <th></th>\n",
       "      <th>id</th>\n",
       "      <th>buildingblock1_smiles</th>\n",
       "      <th>buildingblock2_smiles</th>\n",
       "      <th>buildingblock3_smiles</th>\n",
       "      <th>molecule_smiles</th>\n",
       "      <th>protein_name</th>\n",
       "      <th>binds</th>\n",
       "    </tr>\n",
       "  </thead>\n",
       "  <tbody>\n",
       "    <tr>\n",
       "      <th>0</th>\n",
       "      <td>60621538</td>\n",
       "      <td>Cc1cccc(NC(=O)OCC2c3ccccc3-c3ccccc32)c1C(=O)O</td>\n",
       "      <td>N#Cc1c(N)cccc1F</td>\n",
       "      <td>Nc1ccc2cc(Br)ccc2c1</td>\n",
       "      <td>Cc1cccc(Nc2nc(Nc3ccc4cc(Br)ccc4c3)nc(Nc3cccc(F...</td>\n",
       "      <td>HSA</td>\n",
       "      <td>0</td>\n",
       "    </tr>\n",
       "    <tr>\n",
       "      <th>1</th>\n",
       "      <td>227061691</td>\n",
       "      <td>O=C(Nc1nc2ccc(C(=O)O)cc2s1)OCC1c2ccccc2-c2ccccc21</td>\n",
       "      <td>Cc1sc(CCN)nc1-c1ccccc1.Cl.Cl</td>\n",
       "      <td>Cc1cc(=O)oc2cc(N)ccc12</td>\n",
       "      <td>Cc1sc(CCNc2nc(Nc3ccc4c(C)cc(=O)oc4c3)nc(Nc3nc4...</td>\n",
       "      <td>HSA</td>\n",
       "      <td>0</td>\n",
       "    </tr>\n",
       "    <tr>\n",
       "      <th>2</th>\n",
       "      <td>41105038</td>\n",
       "      <td>COc1nccc(C(=O)O)c1NC(=O)OCC1c2ccccc2-c2ccccc21</td>\n",
       "      <td>NCc1c(F)cccc1N1CCCC1</td>\n",
       "      <td>CS(=O)(=O)Nc1ccc(-c2csc(N)n2)cc1</td>\n",
       "      <td>COc1nccc(C(=O)N[Dy])c1Nc1nc(NCc2c(F)cccc2N2CCC...</td>\n",
       "      <td>HSA</td>\n",
       "      <td>0</td>\n",
       "    </tr>\n",
       "    <tr>\n",
       "      <th>3</th>\n",
       "      <td>7263624</td>\n",
       "      <td>C=CCC(NC(=O)OCC1c2ccccc2-c2ccccc21)C(=O)O</td>\n",
       "      <td>NCC(O)COc1cccc(Cl)c1Cl</td>\n",
       "      <td>CCOC(=O)c1c[nH]nc1N</td>\n",
       "      <td>C=CCC(Nc1nc(NCC(O)COc2cccc(Cl)c2Cl)nc(Nc2n[nH]...</td>\n",
       "      <td>BRD4</td>\n",
       "      <td>0</td>\n",
       "    </tr>\n",
       "    <tr>\n",
       "      <th>4</th>\n",
       "      <td>261575461</td>\n",
       "      <td>O=C(O)C[C@@H]1CCCN1C(=O)OCC1c2ccccc2-c2ccccc21</td>\n",
       "      <td>CCOC(=O)c1cnc(N)cn1</td>\n",
       "      <td>Cn1c(=O)cc(N)[nH]c1=O</td>\n",
       "      <td>CCOC(=O)c1cnc(Nc2nc(Nc3cc(=O)n(C)c(=O)[nH]3)nc...</td>\n",
       "      <td>HSA</td>\n",
       "      <td>0</td>\n",
       "    </tr>\n",
       "  </tbody>\n",
       "</table>\n",
       "</div>"
      ],
      "text/plain": [
       "          id                              buildingblock1_smiles  \\\n",
       "0   60621538      Cc1cccc(NC(=O)OCC2c3ccccc3-c3ccccc32)c1C(=O)O   \n",
       "1  227061691  O=C(Nc1nc2ccc(C(=O)O)cc2s1)OCC1c2ccccc2-c2ccccc21   \n",
       "2   41105038     COc1nccc(C(=O)O)c1NC(=O)OCC1c2ccccc2-c2ccccc21   \n",
       "3    7263624          C=CCC(NC(=O)OCC1c2ccccc2-c2ccccc21)C(=O)O   \n",
       "4  261575461     O=C(O)C[C@@H]1CCCN1C(=O)OCC1c2ccccc2-c2ccccc21   \n",
       "\n",
       "          buildingblock2_smiles             buildingblock3_smiles  \\\n",
       "0               N#Cc1c(N)cccc1F               Nc1ccc2cc(Br)ccc2c1   \n",
       "1  Cc1sc(CCN)nc1-c1ccccc1.Cl.Cl            Cc1cc(=O)oc2cc(N)ccc12   \n",
       "2          NCc1c(F)cccc1N1CCCC1  CS(=O)(=O)Nc1ccc(-c2csc(N)n2)cc1   \n",
       "3        NCC(O)COc1cccc(Cl)c1Cl               CCOC(=O)c1c[nH]nc1N   \n",
       "4           CCOC(=O)c1cnc(N)cn1             Cn1c(=O)cc(N)[nH]c1=O   \n",
       "\n",
       "                                     molecule_smiles protein_name  binds  \n",
       "0  Cc1cccc(Nc2nc(Nc3ccc4cc(Br)ccc4c3)nc(Nc3cccc(F...          HSA      0  \n",
       "1  Cc1sc(CCNc2nc(Nc3ccc4c(C)cc(=O)oc4c3)nc(Nc3nc4...          HSA      0  \n",
       "2  COc1nccc(C(=O)N[Dy])c1Nc1nc(NCc2c(F)cccc2N2CCC...          HSA      0  \n",
       "3  C=CCC(Nc1nc(NCC(O)COc2cccc(Cl)c2Cl)nc(Nc2n[nH]...         BRD4      0  \n",
       "4  CCOC(=O)c1cnc(Nc2nc(Nc3cc(=O)n(C)c(=O)[nH]3)nc...          HSA      0  "
      ]
     },
     "execution_count": 2,
     "metadata": {},
     "output_type": "execute_result"
    }
   ],
   "source": [
    "df.head()"
   ]
  },
  {
   "cell_type": "markdown",
   "metadata": {},
   "source": [
    "## Feature Preprocessing\n",
    "\n",
    "Lets grab the smiles for the fully assembled molecule `molecule_smiles` and generate ecfps for it. We could choose different radiuses or bits, but 2 and 1024 is pretty standard."
   ]
  },
  {
   "cell_type": "code",
   "execution_count": 4,
   "metadata": {},
   "outputs": [
    {
     "name": "stdout",
     "output_type": "stream",
     "text": [
      "RDKit Version: 2025.03.3\n",
      "\n",
      "Generator object type: <class 'rdkit.Chem.rdFingerprintGenerator.FingerprintGenerator64'>\n",
      "\n",
      "--- Available Methods on fpgen object ---\n",
      "['GetCountFingerprint', 'GetCountFingerprintAsNumPy', 'GetCountFingerprints', 'GetFingerprint', 'GetFingerprintAsNumPy', 'GetFingerprints', 'GetInfoString', 'GetOptions', 'GetSparseCountFingerprint', 'GetSparseCountFingerprints', 'GetSparseFingerprint', 'GetSparseFingerprints']\n"
     ]
    }
   ],
   "source": [
    "import rdkit\n",
    "from rdkit import Chem\n",
    "from rdkit.Chem.rdFingerprintGenerator import GetMorganGenerator\n",
    "\n",
    "print(f\"RDKit Version: {rdkit.__version__}\")\n",
    "\n",
    "mol = Chem.MolFromSmiles(\"CCO\")\n",
    "fpgen = GetMorganGenerator(radius=2, fpSize=1024)\n",
    "\n",
    "print(f\"\\nGenerator object type: {type(fpgen)}\")\n",
    "\n",
    "print(\"\\n--- Available Methods on fpgen object ---\")\n",
    "# This will print a list of all valid methods. Look for something similar to 'GetFingerprint...'.\n",
    "print([method for method in dir(fpgen) if not method.startswith('_')])"
   ]
  },
  {
   "cell_type": "code",
   "execution_count": 5,
   "metadata": {
    "execution": {
     "iopub.execute_input": "2024-04-04T12:56:59.393847Z",
     "iopub.status.busy": "2024-04-04T12:56:59.393285Z",
     "iopub.status.idle": "2024-04-04T12:58:33.361255Z",
     "shell.execute_reply": "2024-04-04T12:58:33.360094Z",
     "shell.execute_reply.started": "2024-04-04T12:56:59.393801Z"
    },
    "trusted": true
   },
   "outputs": [
    {
     "name": "stdout",
     "output_type": "stream",
     "text": [
      "ECFP generation complete.\n"
     ]
    }
   ],
   "source": [
    "from rdkit import Chem\n",
    "# Import the modern fingerprinting API\n",
    "from rdkit.Chem.rdFingerprintGenerator import GetMorganGenerator\n",
    "from sklearn.ensemble import RandomForestClassifier\n",
    "from sklearn.model_selection import train_test_split\n",
    "from sklearn.metrics import average_precision_score\n",
    "from sklearn.preprocessing import OneHotEncoder\n",
    "\n",
    "# Convert SMILES to RDKit molecules\n",
    "df['molecule'] = df['molecule_smiles'].apply(Chem.MolFromSmiles)\n",
    "\n",
    "# Generate ECFPs using the new MorganGenerator API and the CORRECT method name\n",
    "def generate_ecfp(molecule, radius=2, bits=1024):\n",
    "    if molecule is None:\n",
    "        return None\n",
    "    # Create a generator object for Morgan fingerprints\n",
    "    fpgen = GetMorganGenerator(radius=radius, fpSize=bits)\n",
    "    # Use the correct method, .GetFingerprint(), as revealed by dir(fpgen)\n",
    "    return list(fpgen.GetFingerprint(molecule))\n",
    "\n",
    "# This line will now execute successfully.\n",
    "df['ecfp'] = df['molecule'].apply(generate_ecfp)\n",
    "\n",
    "print(\"ECFP generation complete.\")"
   ]
  },
  {
   "cell_type": "markdown",
   "metadata": {},
   "source": [
    "## Train Model"
   ]
  },
  {
   "cell_type": "code",
   "execution_count": 6,
   "metadata": {
    "execution": {
     "iopub.execute_input": "2024-04-04T12:58:33.364134Z",
     "iopub.status.busy": "2024-04-04T12:58:33.363545Z",
     "iopub.status.idle": "2024-04-04T12:59:07.251685Z",
     "shell.execute_reply": "2024-04-04T12:59:07.250506Z",
     "shell.execute_reply.started": "2024-04-04T12:58:33.364095Z"
    },
    "trusted": true
   },
   "outputs": [
    {
     "name": "stdout",
     "output_type": "stream",
     "text": [
      "Mean Average Precision (mAP): 0.96\n"
     ]
    }
   ],
   "source": [
    "# One-hot encode the protein_name\n",
    "onehot_encoder = OneHotEncoder(sparse_output=False)\n",
    "protein_onehot = onehot_encoder.fit_transform(df['protein_name'].values.reshape(-1, 1))\n",
    "\n",
    "# Combine ECFPs and one-hot encoded protein_name\n",
    "X = [ecfp + protein for ecfp, protein in zip(df['ecfp'].tolist(), protein_onehot.tolist())]\n",
    "y = df['binds'].tolist()\n",
    "\n",
    "# Split the data into train and test sets\n",
    "X_train, X_test, y_train, y_test = train_test_split(X, y, test_size=0.2, random_state=42)\n",
    "\n",
    "# Create and train the random forest model, using all available cores (n_jobs=-1)\n",
    "rf_model = RandomForestClassifier(n_estimators=100, random_state=42, n_jobs=-1)\n",
    "rf_model.fit(X_train, y_train)\n",
    "\n",
    "# Make predictions on the test set\n",
    "y_pred_proba = rf_model.predict_proba(X_test)[:, 1]  # Probability of the positive class\n",
    "\n",
    "# Calculate the mean average precision\n",
    "map_score = average_precision_score(y_test, y_pred_proba)\n",
    "print(f\"Mean Average Precision (mAP): {map_score:.2f}\")"
   ]
  },
  {
   "cell_type": "markdown",
   "metadata": {},
   "source": [
    "Look at that Average Precision score. We did amazing! \n",
    "\n",
    "Actually no, we just overfit. This is likely recurring theme for this dataset. It is easy to predict molecules that come from the same corner of chemical space, but generalizing to new molecules is extremely difficult."
   ]
  },
  {
   "cell_type": "markdown",
   "metadata": {},
   "source": [
    "## Test Prediction\n",
    "\n",
    " The trained Random Forest model is then used to predict the binding probabilities. These predictions are saved to a CSV file, which serves as the submission file for the Kaggle competition."
   ]
  },
  {
   "cell_type": "code",
   "execution_count": 11,
   "metadata": {
    "execution": {
     "iopub.execute_input": "2024-04-04T12:59:07.254120Z",
     "iopub.status.busy": "2024-04-04T12:59:07.253228Z",
     "iopub.status.idle": "2024-04-04T13:42:44.325552Z",
     "shell.execute_reply": "2024-04-04T13:42:44.323991Z",
     "shell.execute_reply.started": "2024-04-04T12:59:07.254088Z"
    },
    "trusted": true
   },
   "outputs": [
    {
     "name": "stdout",
     "output_type": "stream",
     "text": [
      "Using 38 worker processes.\n",
      "Calculating total number of molecules...\n",
      "Found 1,674,896 molecules to process.\n"
     ]
    },
    {
     "name": "stderr",
     "output_type": "stream",
     "text": [
      "Total Progress: 100%|██████████| 1674896/1674896 [19:12<00:00, 1453.05mol/s]"
     ]
    },
    {
     "name": "stdout",
     "output_type": "stream",
     "text": [
      "Processing complete. Submission file created at 'ecfps_submission.csv'\n"
     ]
    },
    {
     "name": "stderr",
     "output_type": "stream",
     "text": [
      "\n"
     ]
    }
   ],
   "source": [
    "import os\n",
    "import pandas as pd\n",
    "from multiprocessing import Pool, cpu_count\n",
    "import gc\n",
    "from tqdm import tqdm\n",
    "from rdkit import Chem\n",
    "from rdkit.Chem.rdFingerprintGenerator import GetMorganGenerator\n",
    "\n",
    "# --- Configuration ---\n",
    "ECFP_RADIUS = 2\n",
    "ECFP_NBITS = 1024 # Matching the bits used in training\n",
    "\n",
    "def smiles_to_ecfp_worker(smiles):\n",
    "    \"\"\"A dedicated worker function for multiprocessing that takes a SMILES string.\"\"\"\n",
    "    fpgen = GetMorganGenerator(radius=ECFP_RADIUS, fpSize=ECFP_NBITS)\n",
    "    try:\n",
    "        mol = Chem.MolFromSmiles(smiles)\n",
    "        if mol:\n",
    "            # Using the method name we confirmed works in your environment\n",
    "            return list(fpgen.GetFingerprint(mol))\n",
    "        return [0] * ECFP_NBITS\n",
    "    except:\n",
    "        return [0] * ECFP_NBITS\n",
    "\n",
    "# --- Main Processing Script ---\n",
    "test_file = '/dfs6/pub/ddlin/projects/belka_del/data/raw/test.csv'\n",
    "output_file = 'ecfps_submission.csv'\n",
    "\n",
    "num_processes = cpu_count() - 2 if cpu_count() > 2 else 1\n",
    "print(f\"Using {num_processes} worker processes.\")\n",
    "\n",
    "if os.path.exists(output_file):\n",
    "    os.remove(output_file)\n",
    "\n",
    "chunk_size = 100000\n",
    "\n",
    "# --- TQDM SETUP: Get total number of rows for the main progress bar ---\n",
    "print(\"Calculating total number of molecules...\")\n",
    "total_rows = sum(1 for row in open(test_file, 'r')) - 1 # Subtract 1 for header\n",
    "print(f\"Found {total_rows:,} molecules to process.\")\n",
    "\n",
    "# --- Main Loop with TQDM ---\n",
    "with tqdm(total=total_rows, desc=\"Total Progress\", unit=\"mol\") as pbar:\n",
    "    for df_test in pd.read_csv(test_file, chunksize=chunk_size):\n",
    "        protein_onehot = onehot_encoder.transform(df_test['protein_name'].values.reshape(-1, 1))\n",
    "\n",
    "        def feature_generator():\n",
    "            with Pool(processes=num_processes) as pool:\n",
    "                with tqdm(total=len(df_test), desc=f\"Chunk Processing\", leave=False, unit=\"mol\") as inner_pbar:\n",
    "                    ecfp_iterator = pool.imap_unordered(smiles_to_ecfp_worker, df_test['molecule_smiles'])\n",
    "                    for i, (ecfp, protein) in enumerate(zip(ecfp_iterator, protein_onehot)):\n",
    "                        inner_pbar.update(1)\n",
    "                        yield ecfp + protein.tolist()\n",
    "        \n",
    "        # --- CORRECTED CODE ---\n",
    "        # Convert the generator to a list before passing it to the model.\n",
    "        # This is memory-safe because it only contains data for the current chunk.\n",
    "        X_test_chunk = list(feature_generator())\n",
    "        probabilities = rf_model.predict_proba(X_test_chunk)[:, 1]\n",
    "        \n",
    "        del protein_onehot\n",
    "        del X_test_chunk # Explicitly delete the list to free memory\n",
    "        gc.collect()\n",
    "\n",
    "        output_df = pd.DataFrame({'id': df_test['id'], 'binds': probabilities})\n",
    "        write_header = not os.path.exists(output_file)\n",
    "        output_df.to_csv(output_file, index=False, mode='a', header=write_header)\n",
    "        \n",
    "        pbar.update(len(df_test)) # Update the main progress bar\n",
    "\n",
    "print(\"Processing complete. Submission file created at 'ecfps_submission.csv'\")"
   ]
  },
  {
   "cell_type": "code",
   "execution_count": 12,
   "metadata": {},
   "outputs": [
    {
     "name": "stdout",
     "output_type": "stream",
     "text": [
      "Output file contains 1674896 rows.\n"
     ]
    },
    {
     "data": {
      "text/html": [
       "<div>\n",
       "<style scoped>\n",
       "    .dataframe tbody tr th:only-of-type {\n",
       "        vertical-align: middle;\n",
       "    }\n",
       "\n",
       "    .dataframe tbody tr th {\n",
       "        vertical-align: top;\n",
       "    }\n",
       "\n",
       "    .dataframe thead th {\n",
       "        text-align: right;\n",
       "    }\n",
       "</style>\n",
       "<table border=\"1\" class=\"dataframe\">\n",
       "  <thead>\n",
       "    <tr style=\"text-align: right;\">\n",
       "      <th></th>\n",
       "      <th>id</th>\n",
       "      <th>binds</th>\n",
       "    </tr>\n",
       "  </thead>\n",
       "  <tbody>\n",
       "    <tr>\n",
       "      <th>0</th>\n",
       "      <td>295246830</td>\n",
       "      <td>0.28</td>\n",
       "    </tr>\n",
       "    <tr>\n",
       "      <th>1</th>\n",
       "      <td>295246831</td>\n",
       "      <td>0.22</td>\n",
       "    </tr>\n",
       "    <tr>\n",
       "      <th>2</th>\n",
       "      <td>295246832</td>\n",
       "      <td>0.31</td>\n",
       "    </tr>\n",
       "    <tr>\n",
       "      <th>3</th>\n",
       "      <td>295246833</td>\n",
       "      <td>0.28</td>\n",
       "    </tr>\n",
       "    <tr>\n",
       "      <th>4</th>\n",
       "      <td>295246834</td>\n",
       "      <td>0.39</td>\n",
       "    </tr>\n",
       "  </tbody>\n",
       "</table>\n",
       "</div>"
      ],
      "text/plain": [
       "          id  binds\n",
       "0  295246830   0.28\n",
       "1  295246831   0.22\n",
       "2  295246832   0.31\n",
       "3  295246833   0.28\n",
       "4  295246834   0.39"
      ]
     },
     "execution_count": 12,
     "metadata": {},
     "output_type": "execute_result"
    }
   ],
   "source": [
    "# Read the output file to verify\n",
    "output_df = pd.read_csv(output_file)\n",
    "print(f\"Output file contains {len(output_df)} rows.\")\n",
    "output_df.head()"
   ]
  },
  {
   "cell_type": "code",
   "execution_count": null,
   "metadata": {},
   "outputs": [],
   "source": []
  }
 ],
 "metadata": {
  "kaggle": {
   "accelerator": "none",
   "dataSources": [
    {
     "databundleVersionId": 8006601,
     "sourceId": 67356,
     "sourceType": "competition"
    }
   ],
   "dockerImageVersionId": 30673,
   "isGpuEnabled": false,
   "isInternetEnabled": true,
   "language": "python",
   "sourceType": "notebook"
  },
  "kernelspec": {
   "display_name": "belka-del-py3.10",
   "language": "python",
   "name": "python3"
  },
  "language_info": {
   "codemirror_mode": {
    "name": "ipython",
    "version": 3
   },
   "file_extension": ".py",
   "mimetype": "text/x-python",
   "name": "python",
   "nbconvert_exporter": "python",
   "pygments_lexer": "ipython3",
   "version": "3.10.12"
  }
 },
 "nbformat": 4,
 "nbformat_minor": 4
}
